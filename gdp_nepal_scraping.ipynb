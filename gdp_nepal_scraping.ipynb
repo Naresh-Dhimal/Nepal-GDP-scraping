{
 "cells": [
  {
   "cell_type": "code",
   "execution_count": 20,
   "metadata": {
    "executionInfo": {
     "elapsed": 486,
     "status": "ok",
     "timestamp": 1707661226679,
     "user": {
      "displayName": "Naresh Dhimal",
      "userId": "09365278622964352866"
     },
     "user_tz": -345
    },
    "id": "LgC1TICwYiYF"
   },
   "outputs": [],
   "source": [
    "# import requests\n",
    "import requests"
   ]
  },
  {
   "cell_type": "code",
   "execution_count": 21,
   "metadata": {
    "executionInfo": {
     "elapsed": 4,
     "status": "ok",
     "timestamp": 1707661227161,
     "user": {
      "displayName": "Naresh Dhimal",
      "userId": "09365278622964352866"
     },
     "user_tz": -345
    },
    "id": "YIqm-cFIY9ZH"
   },
   "outputs": [],
   "source": [
    "# url of website to be scraping\n",
    "url = \"https://www.worldometers.info/gdp/nepal-gdp/\""
   ]
  },
  {
   "cell_type": "code",
   "execution_count": 22,
   "metadata": {
    "executionInfo": {
     "elapsed": 3,
     "status": "ok",
     "timestamp": 1707661227161,
     "user": {
      "displayName": "Naresh Dhimal",
      "userId": "09365278622964352866"
     },
     "user_tz": -345
    },
    "id": "UPjwfJ2HZSkK"
   },
   "outputs": [],
   "source": [
    "response_data = requests.get(url).content\n",
    "# print(response_data)"
   ]
  },
  {
   "cell_type": "code",
   "execution_count": 23,
   "metadata": {
    "executionInfo": {
     "elapsed": 603,
     "status": "ok",
     "timestamp": 1707661227761,
     "user": {
      "displayName": "Naresh Dhimal",
      "userId": "09365278622964352866"
     },
     "user_tz": -345
    },
    "id": "EGrqkfNdZaA1"
   },
   "outputs": [],
   "source": [
    "# importing BeautifulSoup to soup the data\n",
    "from bs4 import BeautifulSoup"
   ]
  },
  {
   "cell_type": "code",
   "execution_count": 24,
   "metadata": {
    "executionInfo": {
     "elapsed": 30,
     "status": "ok",
     "timestamp": 1707661227761,
     "user": {
      "displayName": "Naresh Dhimal",
      "userId": "09365278622964352866"
     },
     "user_tz": -345
    },
    "id": "vYckOKPgZsGO"
   },
   "outputs": [],
   "source": [
    "# here, content in parser to the html\n",
    "html_soup_data = BeautifulSoup(response_data, \"html.parser\")"
   ]
  },
  {
   "cell_type": "code",
   "execution_count": 32,
   "metadata": {
    "executionInfo": {
     "elapsed": 9,
     "status": "ok",
     "timestamp": 1707661311901,
     "user": {
      "displayName": "Naresh Dhimal",
      "userId": "09365278622964352866"
     },
     "user_tz": -345
    },
    "id": "CvAjgtWJac4t"
   },
   "outputs": [],
   "source": [
    "# find the class of table\n",
    "table_data = html_soup_data.find(class_ = \"table table-striped table-bordered table-hover table-condensed table-list\")"
   ]
  },
  {
   "cell_type": "code",
   "execution_count": 40,
   "metadata": {
    "executionInfo": {
     "elapsed": 16,
     "status": "ok",
     "timestamp": 1707661505107,
     "user": {
      "displayName": "Naresh Dhimal",
      "userId": "09365278622964352866"
     },
     "user_tz": -345
    },
    "id": "iSOuEyr1iueH"
   },
   "outputs": [],
   "source": [
    "# find all the table headers\n",
    "table_headers = table_data.find_all(\"th\")\n",
    "# assign table headers in text using list comprehension\n",
    "table_title = [title.text for title in table_headers]"
   ]
  },
  {
   "cell_type": "code",
   "execution_count": 41,
   "metadata": {
    "colab": {
     "base_uri": "https://localhost:8080/"
    },
    "executionInfo": {
     "elapsed": 20,
     "status": "ok",
     "timestamp": 1707661514576,
     "user": {
      "displayName": "Naresh Dhimal",
      "userId": "09365278622964352866"
     },
     "user_tz": -345
    },
    "id": "EMbXaZsCjIf1",
    "outputId": "ed6bd752-c261-4183-9cb3-34318485560b"
   },
   "outputs": [
    {
     "data": {
      "text/plain": [
       "['Year',\n",
       " 'GDP Nominal (Current USD) ',\n",
       " 'GDP Real  (Inflation adj.) ',\n",
       " 'GDP change',\n",
       " 'GDP per capita',\n",
       " 'Pop. change',\n",
       " 'Population']"
      ]
     },
     "execution_count": 41,
     "metadata": {},
     "output_type": "execute_result"
    }
   ],
   "source": [
    "table_title # printing headers of table"
   ]
  },
  {
   "cell_type": "code",
   "execution_count": 70,
   "metadata": {
    "executionInfo": {
     "elapsed": 445,
     "status": "ok",
     "timestamp": 1707663426926,
     "user": {
      "displayName": "Naresh Dhimal",
      "userId": "09365278622964352866"
     },
     "user_tz": -345
    },
    "id": "uI2KYrFhq9YD"
   },
   "outputs": [],
   "source": [
    "# importing the pandas library to create dataframe\n",
    "import pandas as pd"
   ]
  },
  {
   "cell_type": "code",
   "execution_count": 72,
   "metadata": {
    "colab": {
     "base_uri": "https://localhost:8080/",
     "height": 89
    },
    "executionInfo": {
     "elapsed": 478,
     "status": "ok",
     "timestamp": 1707663518776,
     "user": {
      "displayName": "Naresh Dhimal",
      "userId": "09365278622964352866"
     },
     "user_tz": -345
    },
    "id": "be9t6yqTrA-P",
    "outputId": "14fa956c-0a1d-4017-f0b4-e9f635ddf5ef"
   },
   "outputs": [
    {
     "data": {
      "text/html": [
       "\n",
       "  <div id=\"df-2467eec9-5ae8-4cb9-896d-1cbfc2f88817\" class=\"colab-df-container\">\n",
       "    <div>\n",
       "<style scoped>\n",
       "    .dataframe tbody tr th:only-of-type {\n",
       "        vertical-align: middle;\n",
       "    }\n",
       "\n",
       "    .dataframe tbody tr th {\n",
       "        vertical-align: top;\n",
       "    }\n",
       "\n",
       "    .dataframe thead th {\n",
       "        text-align: right;\n",
       "    }\n",
       "</style>\n",
       "<table border=\"1\" class=\"dataframe\">\n",
       "  <thead>\n",
       "    <tr style=\"text-align: right;\">\n",
       "      <th></th>\n",
       "      <th>Year</th>\n",
       "      <th>GDP Nominal (Current USD)</th>\n",
       "      <th>GDP Real  (Inflation adj.)</th>\n",
       "      <th>GDP change</th>\n",
       "      <th>GDP per capita</th>\n",
       "      <th>Pop. change</th>\n",
       "      <th>Population</th>\n",
       "    </tr>\n",
       "  </thead>\n",
       "  <tbody>\n",
       "  </tbody>\n",
       "</table>\n",
       "</div>\n",
       "    <div class=\"colab-df-buttons\">\n",
       "\n",
       "  <div class=\"colab-df-container\">\n",
       "    <button class=\"colab-df-convert\" onclick=\"convertToInteractive('df-2467eec9-5ae8-4cb9-896d-1cbfc2f88817')\"\n",
       "            title=\"Convert this dataframe to an interactive table.\"\n",
       "            style=\"display:none;\">\n",
       "\n",
       "  <svg xmlns=\"http://www.w3.org/2000/svg\" height=\"24px\" viewBox=\"0 -960 960 960\">\n",
       "    <path d=\"M120-120v-720h720v720H120Zm60-500h600v-160H180v160Zm220 220h160v-160H400v160Zm0 220h160v-160H400v160ZM180-400h160v-160H180v160Zm440 0h160v-160H620v160ZM180-180h160v-160H180v160Zm440 0h160v-160H620v160Z\"/>\n",
       "  </svg>\n",
       "    </button>\n",
       "\n",
       "  <style>\n",
       "    .colab-df-container {\n",
       "      display:flex;\n",
       "      gap: 12px;\n",
       "    }\n",
       "\n",
       "    .colab-df-convert {\n",
       "      background-color: #E8F0FE;\n",
       "      border: none;\n",
       "      border-radius: 50%;\n",
       "      cursor: pointer;\n",
       "      display: none;\n",
       "      fill: #1967D2;\n",
       "      height: 32px;\n",
       "      padding: 0 0 0 0;\n",
       "      width: 32px;\n",
       "    }\n",
       "\n",
       "    .colab-df-convert:hover {\n",
       "      background-color: #E2EBFA;\n",
       "      box-shadow: 0px 1px 2px rgba(60, 64, 67, 0.3), 0px 1px 3px 1px rgba(60, 64, 67, 0.15);\n",
       "      fill: #174EA6;\n",
       "    }\n",
       "\n",
       "    .colab-df-buttons div {\n",
       "      margin-bottom: 4px;\n",
       "    }\n",
       "\n",
       "    [theme=dark] .colab-df-convert {\n",
       "      background-color: #3B4455;\n",
       "      fill: #D2E3FC;\n",
       "    }\n",
       "\n",
       "    [theme=dark] .colab-df-convert:hover {\n",
       "      background-color: #434B5C;\n",
       "      box-shadow: 0px 1px 3px 1px rgba(0, 0, 0, 0.15);\n",
       "      filter: drop-shadow(0px 1px 2px rgba(0, 0, 0, 0.3));\n",
       "      fill: #FFFFFF;\n",
       "    }\n",
       "  </style>\n",
       "\n",
       "    <script>\n",
       "      const buttonEl =\n",
       "        document.querySelector('#df-2467eec9-5ae8-4cb9-896d-1cbfc2f88817 button.colab-df-convert');\n",
       "      buttonEl.style.display =\n",
       "        google.colab.kernel.accessAllowed ? 'block' : 'none';\n",
       "\n",
       "      async function convertToInteractive(key) {\n",
       "        const element = document.querySelector('#df-2467eec9-5ae8-4cb9-896d-1cbfc2f88817');\n",
       "        const dataTable =\n",
       "          await google.colab.kernel.invokeFunction('convertToInteractive',\n",
       "                                                    [key], {});\n",
       "        if (!dataTable) return;\n",
       "\n",
       "        const docLinkHtml = 'Like what you see? Visit the ' +\n",
       "          '<a target=\"_blank\" href=https://colab.research.google.com/notebooks/data_table.ipynb>data table notebook</a>'\n",
       "          + ' to learn more about interactive tables.';\n",
       "        element.innerHTML = '';\n",
       "        dataTable['output_type'] = 'display_data';\n",
       "        await google.colab.output.renderOutput(dataTable, element);\n",
       "        const docLink = document.createElement('div');\n",
       "        docLink.innerHTML = docLinkHtml;\n",
       "        element.appendChild(docLink);\n",
       "      }\n",
       "    </script>\n",
       "  </div>\n",
       "\n",
       "\n",
       "  <div id=\"id_f9c6335f-f09f-4cec-9ade-61ddf7dd7af9\">\n",
       "    <style>\n",
       "      .colab-df-generate {\n",
       "        background-color: #E8F0FE;\n",
       "        border: none;\n",
       "        border-radius: 50%;\n",
       "        cursor: pointer;\n",
       "        display: none;\n",
       "        fill: #1967D2;\n",
       "        height: 32px;\n",
       "        padding: 0 0 0 0;\n",
       "        width: 32px;\n",
       "      }\n",
       "\n",
       "      .colab-df-generate:hover {\n",
       "        background-color: #E2EBFA;\n",
       "        box-shadow: 0px 1px 2px rgba(60, 64, 67, 0.3), 0px 1px 3px 1px rgba(60, 64, 67, 0.15);\n",
       "        fill: #174EA6;\n",
       "      }\n",
       "\n",
       "      [theme=dark] .colab-df-generate {\n",
       "        background-color: #3B4455;\n",
       "        fill: #D2E3FC;\n",
       "      }\n",
       "\n",
       "      [theme=dark] .colab-df-generate:hover {\n",
       "        background-color: #434B5C;\n",
       "        box-shadow: 0px 1px 3px 1px rgba(0, 0, 0, 0.15);\n",
       "        filter: drop-shadow(0px 1px 2px rgba(0, 0, 0, 0.3));\n",
       "        fill: #FFFFFF;\n",
       "      }\n",
       "    </style>\n",
       "    <button class=\"colab-df-generate\" onclick=\"generateWithVariable('df')\"\n",
       "            title=\"Generate code using this dataframe.\"\n",
       "            style=\"display:none;\">\n",
       "\n",
       "  <svg xmlns=\"http://www.w3.org/2000/svg\" height=\"24px\"viewBox=\"0 0 24 24\"\n",
       "       width=\"24px\">\n",
       "    <path d=\"M7,19H8.4L18.45,9,17,7.55,7,17.6ZM5,21V16.75L18.45,3.32a2,2,0,0,1,2.83,0l1.4,1.43a1.91,1.91,0,0,1,.58,1.4,1.91,1.91,0,0,1-.58,1.4L9.25,21ZM18.45,9,17,7.55Zm-12,3A5.31,5.31,0,0,0,4.9,8.1,5.31,5.31,0,0,0,1,6.5,5.31,5.31,0,0,0,4.9,4.9,5.31,5.31,0,0,0,6.5,1,5.31,5.31,0,0,0,8.1,4.9,5.31,5.31,0,0,0,12,6.5,5.46,5.46,0,0,0,6.5,12Z\"/>\n",
       "  </svg>\n",
       "    </button>\n",
       "    <script>\n",
       "      (() => {\n",
       "      const buttonEl =\n",
       "        document.querySelector('#id_f9c6335f-f09f-4cec-9ade-61ddf7dd7af9 button.colab-df-generate');\n",
       "      buttonEl.style.display =\n",
       "        google.colab.kernel.accessAllowed ? 'block' : 'none';\n",
       "\n",
       "      buttonEl.onclick = () => {\n",
       "        google.colab.notebook.generateWithVariable('df');\n",
       "      }\n",
       "      })();\n",
       "    </script>\n",
       "  </div>\n",
       "\n",
       "    </div>\n",
       "  </div>\n"
      ],
      "text/plain": [
       "Empty DataFrame\n",
       "Columns: [Year, GDP Nominal (Current USD) , GDP Real  (Inflation adj.) , GDP change, GDP per capita, Pop. change, Population]\n",
       "Index: []"
      ]
     },
     "execution_count": 72,
     "metadata": {},
     "output_type": "execute_result"
    }
   ],
   "source": [
    "df = pd.DataFrame(columns = table_title) # creating the dataframe and assigning title in column of dataframe\n",
    "df"
   ]
  },
  {
   "cell_type": "code",
   "execution_count": null,
   "metadata": {
    "id": "rXC0dW8Ijm_O"
   },
   "outputs": [],
   "source": [
    "# extracting  table row from table data\n",
    "table_tr = table_data.find_all(\"tr\")"
   ]
  },
  {
   "cell_type": "code",
   "execution_count": 86,
   "metadata": {
    "executionInfo": {
     "elapsed": 597,
     "status": "ok",
     "timestamp": 1707664000774,
     "user": {
      "displayName": "Naresh Dhimal",
      "userId": "09365278622964352866"
     },
     "user_tz": -345
    },
    "id": "JHx44Wlak9GB"
   },
   "outputs": [],
   "source": [
    "for tr in table_tr[1:]: # for loop from index 1\n",
    "  data = tr.find_all(\"td\") # extracting all td data from table row\n",
    "  tr_data = [td.text for td in data] # assign td data in text\n",
    "  l = len(df)\n",
    "  df.loc[l] = tr_data # adding the iterative td data in dataframe"
   ]
  },
  {
   "cell_type": "code",
   "execution_count": 87,
   "metadata": {
    "executionInfo": {
     "elapsed": 8,
     "status": "ok",
     "timestamp": 1707664079623,
     "user": {
      "displayName": "Naresh Dhimal",
      "userId": "09365278622964352866"
     },
     "user_tz": -345
    },
    "id": "TGzAAX3UlkJ_"
   },
   "outputs": [],
   "source": [
    "# creating csv file\n",
    "df.to_csv(\"Nepal GDP.csv\", index = False)"
   ]
  },
  {
   "cell_type": "code",
   "execution_count": 88,
   "metadata": {
    "executionInfo": {
     "elapsed": 5,
     "status": "ok",
     "timestamp": 1707664165470,
     "user": {
      "displayName": "Naresh Dhimal",
      "userId": "09365278622964352866"
     },
     "user_tz": -345
    },
    "id": "a_1_kH4XtfSO"
   },
   "outputs": [],
   "source": [
    "data_to_be_inserted = df.to_records(index = False) # data of df converting into tuple"
   ]
  },
  {
   "cell_type": "code",
   "execution_count": 103,
   "metadata": {
    "executionInfo": {
     "elapsed": 471,
     "status": "ok",
     "timestamp": 1707669033217,
     "user": {
      "displayName": "Naresh Dhimal",
      "userId": "09365278622964352866"
     },
     "user_tz": -345
    },
    "id": "LuT0tGHit3qm"
   },
   "outputs": [],
   "source": [
    "# importing sqlit3 to store data in database\n",
    "import sqlite3"
   ]
  },
  {
   "cell_type": "code",
   "execution_count": 105,
   "metadata": {
    "executionInfo": {
     "elapsed": 452,
     "status": "ok",
     "timestamp": 1707669151996,
     "user": {
      "displayName": "Naresh Dhimal",
      "userId": "09365278622964352866"
     },
     "user_tz": -345
    },
    "id": "E2JZWPzm8ck3"
   },
   "outputs": [],
   "source": [
    "# creating new database file and conneting to sql\n",
    "connection = sqlite3.connect(\"Nepal GDP.db\")"
   ]
  },
  {
   "cell_type": "code",
   "execution_count": 107,
   "metadata": {
    "executionInfo": {
     "elapsed": 487,
     "status": "ok",
     "timestamp": 1707669343284,
     "user": {
      "displayName": "Naresh Dhimal",
      "userId": "09365278622964352866"
     },
     "user_tz": -345
    },
    "id": "gIWZ8EC_Aph6"
   },
   "outputs": [],
   "source": [
    "# to execute sql statement\n",
    "cursor = connection.cursor()"
   ]
  },
  {
   "cell_type": "code",
   "execution_count": 129,
   "metadata": {
    "executionInfo": {
     "elapsed": 757,
     "status": "ok",
     "timestamp": 1707670512735,
     "user": {
      "displayName": "Naresh Dhimal",
      "userId": "09365278622964352866"
     },
     "user_tz": -345
    },
    "id": "QAL5GDtJA-7E"
   },
   "outputs": [],
   "source": [
    "#query statement to create table\n",
    "query = \"\"\"\n",
    "create table NepalGDP\n",
    "(\n",
    "    Year varchar(500),\n",
    "    GDPNominal varchar(500),\n",
    "    GDPReal varchar(500),\n",
    "    GDPchange varchar(500),\n",
    "    GDPpercapita varchar(500),\n",
    "    Popchange varchar(500),\n",
    "    Population varchar(500)\n",
    ")\n",
    "\"\"\""
   ]
  },
  {
   "cell_type": "code",
   "execution_count": null,
   "metadata": {
    "id": "EZxLYI06DgG0"
   },
   "outputs": [],
   "source": [
    "cursor.execute(query) # query statement to create table is executed"
   ]
  },
  {
   "cell_type": "code",
   "execution_count": 134,
   "metadata": {
    "colab": {
     "base_uri": "https://localhost:8080/"
    },
    "executionInfo": {
     "elapsed": 579,
     "status": "ok",
     "timestamp": 1707670913216,
     "user": {
      "displayName": "Naresh Dhimal",
      "userId": "09365278622964352866"
     },
     "user_tz": -345
    },
    "id": "KZyyHH0UEBsY",
    "outputId": "70b86334-8081-41e2-8d41-b96445c811b9"
   },
   "outputs": [
    {
     "data": {
      "text/plain": [
       "<sqlite3.Cursor at 0x7b8dfbcda3c0>"
      ]
     },
     "execution_count": 134,
     "metadata": {},
     "output_type": "execute_result"
    }
   ],
   "source": [
    "# to insert value in table\n",
    "cursor.executemany(\"\"\"insert into NepalGDP\n",
    "(Year, GDPNominal, GDPReal, GDPchange, GDPpercapita, Popchange, Population)\n",
    "values\n",
    "(?, ?, ?, ?, ?, ?, ?)\"\"\"\n",
    ", data_to_be_inserted)"
   ]
  },
  {
   "cell_type": "code",
   "execution_count": null,
   "metadata": {
    "id": "2J4N4y39HNJ5"
   },
   "outputs": [],
   "source": [
    "cursor.execute(\"select * from NepalGDP\").fetchall() # fetching all data from the table"
   ]
  },
  {
   "cell_type": "code",
   "execution_count": null,
   "metadata": {
    "id": "v_y1JHfWIglB"
   },
   "outputs": [],
   "source": []
  }
 ],
 "metadata": {
  "colab": {
   "authorship_tag": "ABX9TyP6Wxb81q6PeHKAmd55ps+Z",
   "provenance": [],
   "toc_visible": true
  },
  "kernelspec": {
   "display_name": "Python 3 (ipykernel)",
   "language": "python",
   "name": "python3"
  },
  "language_info": {
   "codemirror_mode": {
    "name": "ipython",
    "version": 3
   },
   "file_extension": ".py",
   "mimetype": "text/x-python",
   "name": "python",
   "nbconvert_exporter": "python",
   "pygments_lexer": "ipython3",
   "version": "3.11.1"
  }
 },
 "nbformat": 4,
 "nbformat_minor": 4
}
